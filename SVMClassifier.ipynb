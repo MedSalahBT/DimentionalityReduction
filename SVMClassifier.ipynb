{
 "cells": [
  {
   "cell_type": "code",
   "execution_count": 1,
   "metadata": {
    "collapsed": false,
    "deletable": true,
    "editable": true
   },
   "outputs": [],
   "source": [
    "from sklearn import svm,metrics,model_selection\n",
    "import matplotlib.pyplot as plt\n",
    "import numpy as np\n",
    "import pandas as pd\n",
    "from skimage import feature"
   ]
  },
  {
   "cell_type": "markdown",
   "metadata": {},
   "source": [
    "# LOADING DATA"
   ]
  },
  {
   "cell_type": "code",
   "execution_count": 2,
   "metadata": {
    "collapsed": false,
    "deletable": true,
    "editable": true
   },
   "outputs": [
    {
     "data": {
      "text/html": [
       "<div>\n",
       "<table border=\"1\" class=\"dataframe\">\n",
       "  <thead>\n",
       "    <tr style=\"text-align: right;\">\n",
       "      <th></th>\n",
       "      <th>label</th>\n",
       "      <th>pixel0</th>\n",
       "      <th>pixel1</th>\n",
       "      <th>pixel2</th>\n",
       "      <th>pixel3</th>\n",
       "      <th>pixel4</th>\n",
       "      <th>pixel5</th>\n",
       "      <th>pixel6</th>\n",
       "      <th>pixel7</th>\n",
       "      <th>pixel8</th>\n",
       "      <th>...</th>\n",
       "      <th>pixel774</th>\n",
       "      <th>pixel775</th>\n",
       "      <th>pixel776</th>\n",
       "      <th>pixel777</th>\n",
       "      <th>pixel778</th>\n",
       "      <th>pixel779</th>\n",
       "      <th>pixel780</th>\n",
       "      <th>pixel781</th>\n",
       "      <th>pixel782</th>\n",
       "      <th>pixel783</th>\n",
       "    </tr>\n",
       "  </thead>\n",
       "  <tbody>\n",
       "    <tr>\n",
       "      <th>0</th>\n",
       "      <td>1</td>\n",
       "      <td>0</td>\n",
       "      <td>0</td>\n",
       "      <td>0</td>\n",
       "      <td>0</td>\n",
       "      <td>0</td>\n",
       "      <td>0</td>\n",
       "      <td>0</td>\n",
       "      <td>0</td>\n",
       "      <td>0</td>\n",
       "      <td>...</td>\n",
       "      <td>0</td>\n",
       "      <td>0</td>\n",
       "      <td>0</td>\n",
       "      <td>0</td>\n",
       "      <td>0</td>\n",
       "      <td>0</td>\n",
       "      <td>0</td>\n",
       "      <td>0</td>\n",
       "      <td>0</td>\n",
       "      <td>0</td>\n",
       "    </tr>\n",
       "    <tr>\n",
       "      <th>1</th>\n",
       "      <td>0</td>\n",
       "      <td>0</td>\n",
       "      <td>0</td>\n",
       "      <td>0</td>\n",
       "      <td>0</td>\n",
       "      <td>0</td>\n",
       "      <td>0</td>\n",
       "      <td>0</td>\n",
       "      <td>0</td>\n",
       "      <td>0</td>\n",
       "      <td>...</td>\n",
       "      <td>0</td>\n",
       "      <td>0</td>\n",
       "      <td>0</td>\n",
       "      <td>0</td>\n",
       "      <td>0</td>\n",
       "      <td>0</td>\n",
       "      <td>0</td>\n",
       "      <td>0</td>\n",
       "      <td>0</td>\n",
       "      <td>0</td>\n",
       "    </tr>\n",
       "    <tr>\n",
       "      <th>2</th>\n",
       "      <td>1</td>\n",
       "      <td>0</td>\n",
       "      <td>0</td>\n",
       "      <td>0</td>\n",
       "      <td>0</td>\n",
       "      <td>0</td>\n",
       "      <td>0</td>\n",
       "      <td>0</td>\n",
       "      <td>0</td>\n",
       "      <td>0</td>\n",
       "      <td>...</td>\n",
       "      <td>0</td>\n",
       "      <td>0</td>\n",
       "      <td>0</td>\n",
       "      <td>0</td>\n",
       "      <td>0</td>\n",
       "      <td>0</td>\n",
       "      <td>0</td>\n",
       "      <td>0</td>\n",
       "      <td>0</td>\n",
       "      <td>0</td>\n",
       "    </tr>\n",
       "    <tr>\n",
       "      <th>3</th>\n",
       "      <td>4</td>\n",
       "      <td>0</td>\n",
       "      <td>0</td>\n",
       "      <td>0</td>\n",
       "      <td>0</td>\n",
       "      <td>0</td>\n",
       "      <td>0</td>\n",
       "      <td>0</td>\n",
       "      <td>0</td>\n",
       "      <td>0</td>\n",
       "      <td>...</td>\n",
       "      <td>0</td>\n",
       "      <td>0</td>\n",
       "      <td>0</td>\n",
       "      <td>0</td>\n",
       "      <td>0</td>\n",
       "      <td>0</td>\n",
       "      <td>0</td>\n",
       "      <td>0</td>\n",
       "      <td>0</td>\n",
       "      <td>0</td>\n",
       "    </tr>\n",
       "    <tr>\n",
       "      <th>4</th>\n",
       "      <td>0</td>\n",
       "      <td>0</td>\n",
       "      <td>0</td>\n",
       "      <td>0</td>\n",
       "      <td>0</td>\n",
       "      <td>0</td>\n",
       "      <td>0</td>\n",
       "      <td>0</td>\n",
       "      <td>0</td>\n",
       "      <td>0</td>\n",
       "      <td>...</td>\n",
       "      <td>0</td>\n",
       "      <td>0</td>\n",
       "      <td>0</td>\n",
       "      <td>0</td>\n",
       "      <td>0</td>\n",
       "      <td>0</td>\n",
       "      <td>0</td>\n",
       "      <td>0</td>\n",
       "      <td>0</td>\n",
       "      <td>0</td>\n",
       "    </tr>\n",
       "  </tbody>\n",
       "</table>\n",
       "<p>5 rows × 785 columns</p>\n",
       "</div>"
      ],
      "text/plain": [
       "   label  pixel0  pixel1  pixel2  pixel3  pixel4  pixel5  pixel6  pixel7  \\\n",
       "0      1       0       0       0       0       0       0       0       0   \n",
       "1      0       0       0       0       0       0       0       0       0   \n",
       "2      1       0       0       0       0       0       0       0       0   \n",
       "3      4       0       0       0       0       0       0       0       0   \n",
       "4      0       0       0       0       0       0       0       0       0   \n",
       "\n",
       "   pixel8    ...     pixel774  pixel775  pixel776  pixel777  pixel778  \\\n",
       "0       0    ...            0         0         0         0         0   \n",
       "1       0    ...            0         0         0         0         0   \n",
       "2       0    ...            0         0         0         0         0   \n",
       "3       0    ...            0         0         0         0         0   \n",
       "4       0    ...            0         0         0         0         0   \n",
       "\n",
       "   pixel779  pixel780  pixel781  pixel782  pixel783  \n",
       "0         0         0         0         0         0  \n",
       "1         0         0         0         0         0  \n",
       "2         0         0         0         0         0  \n",
       "3         0         0         0         0         0  \n",
       "4         0         0         0         0         0  \n",
       "\n",
       "[5 rows x 785 columns]"
      ]
     },
     "execution_count": 2,
     "metadata": {},
     "output_type": "execute_result"
    }
   ],
   "source": [
    "data = pd.read_csv(\"train.csv\")\n",
    "data.head()"
   ]
  },
  {
   "cell_type": "code",
   "execution_count": 3,
   "metadata": {
    "collapsed": false,
    "deletable": true,
    "editable": true
   },
   "outputs": [],
   "source": [
    "images = data.ix[:, 1:].as_matrix().reshape((-1,28,28))\n",
    "labels = data.ix[:, 0].as_matrix()"
   ]
  },
  {
   "cell_type": "code",
   "execution_count": 4,
   "metadata": {
    "collapsed": false,
    "deletable": true,
    "editable": true
   },
   "outputs": [],
   "source": [
    "def show_img(image):\n",
    "    plt.imshow(image, cmap=plt.cm.gray_r, interpolation='nearest')\n",
    "    plt.show()"
   ]
  },
  {
   "cell_type": "code",
   "execution_count": 5,
   "metadata": {
    "collapsed": false,
    "deletable": true,
    "editable": true
   },
   "outputs": [
    {
     "data": {
      "image/png": "[encoded data removed]",
      "text/plain": [
       "<matplotlib.figure.Figure at 0x1146bafd0>"
      ]
     },
     "metadata": {},
     "output_type": "display_data"
    }
   ],
   "source": [
    "show_img(images[3])"
   ]
  },
  {
   "cell_type": "markdown",
   "metadata": {},
   "source": [
    "## Setup training and testing data"
   ]
  },
  {
   "cell_type": "code",
   "execution_count": 6,
   "metadata": {
    "collapsed": false
   },
   "outputs": [],
   "source": [
    "sample_df = data.sample(13000)\n",
    "training_df = sample_df[:10000]\n",
    "testing_df = sample_df[10000:]"
   ]
  },
  {
   "cell_type": "code",
   "execution_count": 7,
   "metadata": {
    "collapsed": false
   },
   "outputs": [],
   "source": [
    "training_data = training_df.ix[:, 1:].as_matrix()\n",
    "training_labels = training_df.ix[:, 0].as_matrix()"
   ]
  },
  {
   "cell_type": "code",
   "execution_count": 8,
   "metadata": {
    "collapsed": true
   },
   "outputs": [],
   "source": [
    "test_data = testing_df.ix[:, 1:].as_matrix()\n",
    "test_labels = testing_df.ix[:, 0].as_matrix()"
   ]
  },
  {
   "cell_type": "markdown",
   "metadata": {},
   "source": [
    "# Feature Extraction"
   ]
  },
  {
   "cell_type": "markdown",
   "metadata": {},
   "source": [
    "## HOG function"
   ]
  },
  {
   "cell_type": "code",
   "execution_count": 9,
   "metadata": {
    "collapsed": true
   },
   "outputs": [],
   "source": [
    "from sklearn.externals import joblib\n",
    "from skimage.feature import hog\n",
    "from time import time"
   ]
  },
  {
   "cell_type": "code",
   "execution_count": 40,
   "metadata": {
    "collapsed": false
   },
   "outputs": [],
   "source": [
    "def hog_features_extraction(features):\n",
    "    t0 = time()\n",
    "    list_hog_fd = []\n",
    "    for feature in features:\n",
    "        fd = hog(feature.reshape((28,28)), orientations = 9, pixels_per_cell=(7,7), cells_per_block=(1,1), visualise=False)\n",
    "    #     print(fd.shape)\n",
    "        list_hog_fd.append(fd)\n",
    "\n",
    "    hog_features = np.array(list_hog_fd,'float64')\n",
    "#     print(hog_features.shape)\n",
    "#     print('HOG Extraction time consuming:', (time()-t0))\n",
    "    return hog_features"
   ]
  },
  {
   "cell_type": "code",
   "execution_count": 44,
   "metadata": {
    "collapsed": false
   },
   "outputs": [],
   "source": [
    "def classify_reduce_PCA(r_dimension,train_HOG_features,test_HOG_features):\n",
    "    print(\"Reduce to %d dimension\"%r_dimension)\n",
    "    print(\"=========================================\\n\")\n",
    "    result = dict()\n",
    "    t0 = time()\n",
    "    reducer = decomposition.PCA(n_components = r_dimension)\n",
    "    reducer.fit(train_HOG_features)\n",
    "    print('Setting up PCA - consumed time:',(time()-t0))\n",
    "\n",
    "    t0 = time()\n",
    "    train_reduced_features = reducer.transform(train_HOG_features)\n",
    "#     print(np.shape(train_reduced_features))\n",
    "    print('Reducing training data - consumed time:',(time()-t0))\n",
    "    result['train_reduct'] = (time()-t0)\n",
    "\n",
    "    t0 = time()\n",
    "    test_reduced_features = reducer.transform(test_HOG_features)\n",
    "#     print(np.shape(test_reduced_features))\n",
    "    print('Reducing testing data - consumed time:',(time()-t0))\n",
    "    result['test_reduct'] = (time()-t0)\n",
    "\n",
    "\n",
    "    t0=time()\n",
    "    classifier_LLE = svm.SVC(decision_function_shape=\"ovr\", gamma=\"auto\")\n",
    "    classifier_LLE.fit(train_reduced_features, training_labels)\n",
    "    print('Training Classifier - consumed time:', time()-t0)\n",
    "    result['train_classifier'] = (time()-t0)\n",
    "\n",
    "    # # Test With Reduction\n",
    "\n",
    "    # In[20]:\n",
    "\n",
    "    t0=time()\n",
    "    predicted = classifier_LLE.predict(test_reduced_features)\n",
    "    print('Testing Classifier - consumed time:', time()-t0)\n",
    "    result['test_classifier'] = (time()-t0)\n",
    "    print(\"=========================================\\n\")\n",
    "    # In[21]:\n",
    "    classifier_result = metrics.classification_report(test_labels, predicted)\n",
    "    print(metrics.classification_report(test_labels, predicted))\n",
    "    return (result,classifier_result)"
   ]
  },
  {
   "cell_type": "markdown",
   "metadata": {},
   "source": [
    "## HOG Extraction"
   ]
  },
  {
   "cell_type": "code",
   "execution_count": 11,
   "metadata": {
    "collapsed": false
   },
   "outputs": [
    {
     "name": "stdout",
     "output_type": "stream",
     "text": [
      "(10000, 144)\n",
      "HOG Extraction time consuming: 2.6725330352783203\n",
      "(3000, 144)\n",
      "HOG Extraction time consuming: 0.8001182079315186\n"
     ]
    }
   ],
   "source": [
    "train_HOG_features = hog_features_extraction(training_data)\n",
    "test_HOG_features = hog_features_extraction(test_data)"
   ]
  },
  {
   "cell_type": "markdown",
   "metadata": {},
   "source": [
    "# Classification"
   ]
  },
  {
   "cell_type": "code",
   "execution_count": 12,
   "metadata": {
    "collapsed": false
   },
   "outputs": [
    {
     "name": "stdout",
     "output_type": "stream",
     "text": [
      "Classification Consuming: 16.404961109161377\n"
     ]
    }
   ],
   "source": [
    "t0 = time()\n",
    "classifier = svm.SVC(decision_function_shape=\"ovr\", gamma=\"auto\")\n",
    "classifier.fit(train_HOG_features, training_labels)\n",
    "print('Classification Consuming:',(time()-t0))"
   ]
  },
  {
   "cell_type": "markdown",
   "metadata": {},
   "source": [
    "### Testing"
   ]
  },
  {
   "cell_type": "code",
   "execution_count": 13,
   "metadata": {
    "collapsed": false
   },
   "outputs": [
    {
     "name": "stdout",
     "output_type": "stream",
     "text": [
      "Test time: 3.8945019245147705\n"
     ]
    }
   ],
   "source": [
    "t0 = time()\n",
    "predicted = classifier.predict(test_HOG_features)\n",
    "print('Test time:',(time()-t0))"
   ]
  },
  {
   "cell_type": "code",
   "execution_count": 14,
   "metadata": {
    "collapsed": false
   },
   "outputs": [
    {
     "name": "stdout",
     "output_type": "stream",
     "text": [
      "             precision    recall  f1-score   support\n",
      "\n",
      "          0       0.91      0.96      0.93       299\n",
      "          1       0.93      0.97      0.95       335\n",
      "          2       0.94      0.91      0.93       321\n",
      "          3       0.89      0.92      0.91       303\n",
      "          4       0.93      0.90      0.91       257\n",
      "          5       0.95      0.90      0.92       257\n",
      "          6       0.95      0.94      0.94       304\n",
      "          7       0.95      0.85      0.90       326\n",
      "          8       0.93      0.90      0.91       306\n",
      "          9       0.81      0.93      0.87       292\n",
      "\n",
      "avg / total       0.92      0.92      0.92      3000\n",
      "\n"
     ]
    }
   ],
   "source": [
    "print(metrics.classification_report(test_labels, predicted))"
   ]
  },
  {
   "cell_type": "markdown",
   "metadata": {},
   "source": [
    "# Dimensionality Reduction"
   ]
  },
  {
   "cell_type": "markdown",
   "metadata": {},
   "source": [
    "## PCA"
   ]
  },
  {
   "cell_type": "markdown",
   "metadata": {},
   "source": [
    "## Configuration"
   ]
  },
  {
   "cell_type": "code",
   "execution_count": 15,
   "metadata": {
    "collapsed": true
   },
   "outputs": [],
   "source": [
    "from sklearn import decomposition"
   ]
  },
  {
   "cell_type": "code",
   "execution_count": 16,
   "metadata": {
    "collapsed": false
   },
   "outputs": [
    {
     "name": "stdout",
     "output_type": "stream",
     "text": [
      "Consumed time: 0.2348160743713379\n"
     ]
    }
   ],
   "source": [
    "t0 = time()\n",
    "reducer = decomposition.PCA(n_components=64)\n",
    "reducer.fit(train_HOG_features)\n",
    "print('Consumed time:',(time()-t0))"
   ]
  },
  {
   "cell_type": "markdown",
   "metadata": {},
   "source": [
    "## Reduction"
   ]
  },
  {
   "cell_type": "code",
   "execution_count": 17,
   "metadata": {
    "collapsed": false
   },
   "outputs": [
    {
     "name": "stdout",
     "output_type": "stream",
     "text": [
      "(10000, 64)\n",
      "Consumed time: 0.013130903244018555\n"
     ]
    }
   ],
   "source": [
    "t0 = time()\n",
    "train_reduced_features = reducer.transform(train_HOG_features)\n",
    "print(np.shape(train_reduced_features))\n",
    "print('Consumed time:',(time()-t0))"
   ]
  },
  {
   "cell_type": "code",
   "execution_count": 18,
   "metadata": {
    "collapsed": false
   },
   "outputs": [
    {
     "name": "stdout",
     "output_type": "stream",
     "text": [
      "(3000, 64)\n",
      "Consumed time: 0.003966808319091797\n"
     ]
    }
   ],
   "source": [
    "t0 = time()\n",
    "test_reduced_features = reducer.transform(test_HOG_features)\n",
    "print(np.shape(test_reduced_features))\n",
    "print('Consumed time:',(time()-t0))"
   ]
  },
  {
   "cell_type": "markdown",
   "metadata": {},
   "source": [
    "# Classification With Reduction"
   ]
  },
  {
   "cell_type": "code",
   "execution_count": 19,
   "metadata": {
    "collapsed": false
   },
   "outputs": [
    {
     "name": "stdout",
     "output_type": "stream",
     "text": [
      "SVM time consuming: 4.236742973327637\n"
     ]
    }
   ],
   "source": [
    "t0=time()\n",
    "classifier_LLE = svm.SVC(decision_function_shape=\"ovr\", gamma=\"auto\")\n",
    "classifier_LLE.fit(train_reduced_features, training_labels)\n",
    "print('SVM time consuming:', time()-t0)"
   ]
  },
  {
   "cell_type": "markdown",
   "metadata": {},
   "source": [
    "# Test With Reduction"
   ]
  },
  {
   "cell_type": "code",
   "execution_count": 20,
   "metadata": {
    "collapsed": false
   },
   "outputs": [
    {
     "name": "stdout",
     "output_type": "stream",
     "text": [
      "Test time: 1.6038048267364502\n"
     ]
    }
   ],
   "source": [
    "t0=time()\n",
    "predicted = classifier_LLE.predict(test_reduced_features)\n",
    "print('Test time:', time()-t0)"
   ]
  },
  {
   "cell_type": "code",
   "execution_count": 21,
   "metadata": {
    "collapsed": false
   },
   "outputs": [
    {
     "name": "stdout",
     "output_type": "stream",
     "text": [
      "             precision    recall  f1-score   support\n",
      "\n",
      "          0       0.94      0.95      0.95       299\n",
      "          1       0.93      0.97      0.95       335\n",
      "          2       0.93      0.91      0.92       321\n",
      "          3       0.90      0.91      0.90       303\n",
      "          4       0.94      0.90      0.92       257\n",
      "          5       0.96      0.91      0.93       257\n",
      "          6       0.95      0.94      0.95       304\n",
      "          7       0.94      0.89      0.91       326\n",
      "          8       0.93      0.91      0.92       306\n",
      "          9       0.84      0.92      0.88       292\n",
      "\n",
      "avg / total       0.92      0.92      0.92      3000\n",
      "\n"
     ]
    }
   ],
   "source": [
    "print(metrics.classification_report(test_labels, predicted))"
   ]
  },
  {
   "cell_type": "markdown",
   "metadata": {},
   "source": [
    "## Calibrate parameter of PCA to get better result"
   ]
  },
  {
   "cell_type": "code",
   "execution_count": 50,
   "metadata": {
    "collapsed": false
   },
   "outputs": [
    {
     "name": "stdout",
     "output_type": "stream",
     "text": [
      "Reduce to 34 dimension\n",
      "=========================================\n",
      "\n",
      "Setting up PCA - consumed time: 0.1390230655670166\n",
      "Reducing training data - consumed time: 0.00798797607421875\n",
      "Reducing testing data - consumed time: 0.0025010108947753906\n",
      "Training Classifier - consumed time: 2.153532028198242\n",
      "Testing Classifier - consumed time: 0.8863651752471924\n",
      "=========================================\n",
      "\n",
      "             precision    recall  f1-score   support\n",
      "\n",
      "          0       0.93      0.95      0.94       299\n",
      "          1       0.93      0.97      0.95       335\n",
      "          2       0.91      0.89      0.90       321\n",
      "          3       0.88      0.89      0.89       303\n",
      "          4       0.92      0.89      0.91       257\n",
      "          5       0.94      0.92      0.93       257\n",
      "          6       0.94      0.94      0.94       304\n",
      "          7       0.94      0.89      0.91       326\n",
      "          8       0.91      0.88      0.89       306\n",
      "          9       0.85      0.92      0.88       292\n",
      "\n",
      "avg / total       0.92      0.92      0.91      3000\n",
      "\n"
     ]
    }
   ],
   "source": [
    "metrix,result = classify_reduce_PCA(34,train_HOG_features,test_HOG_features)"
   ]
  },
  {
   "cell_type": "markdown",
   "metadata": {},
   "source": [
    "# END"
   ]
  }
 ],
 "metadata": {
  "anaconda-cloud": {},
  "kernelspec": {
   "display_name": "Python [default]",
   "language": "python",
   "name": "python3"
  },
  "language_info": {
   "codemirror_mode": {
    "name": "ipython",
    "version": 3
   },
   "file_extension": ".py",
   "mimetype": "text/x-python",
   "name": "python",
   "nbconvert_exporter": "python",
   "pygments_lexer": "ipython3",
   "version": "3.5.2"
  }
 },
 "nbformat": 4,
 "nbformat_minor": 1
}
